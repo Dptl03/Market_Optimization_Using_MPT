{
 "cells": [
  {
   "cell_type": "code",
   "execution_count": 31,
   "metadata": {
    "colab": {
     "base_uri": "https://localhost:8080/"
    },
    "id": "bLzJAfwRUCsd",
    "outputId": "64f1d595-0f51-4e58-ee7d-11c114d9e816"
   },
   "outputs": [
    {
     "name": "stdout",
     "output_type": "stream",
     "text": [
      "Requirement already satisfied: yfinance in /Users/divya/anaconda3/lib/python3.11/site-packages (0.2.37)\n",
      "Requirement already satisfied: pandas>=1.3.0 in /Users/divya/anaconda3/lib/python3.11/site-packages (from yfinance) (2.1.4)\n",
      "Requirement already satisfied: numpy>=1.16.5 in /Users/divya/anaconda3/lib/python3.11/site-packages (from yfinance) (1.26.3)\n",
      "Requirement already satisfied: requests>=2.31 in /Users/divya/anaconda3/lib/python3.11/site-packages (from yfinance) (2.31.0)\n",
      "Requirement already satisfied: multitasking>=0.0.7 in /Users/divya/anaconda3/lib/python3.11/site-packages (from yfinance) (0.0.11)\n",
      "Requirement already satisfied: lxml>=4.9.1 in /Users/divya/anaconda3/lib/python3.11/site-packages (from yfinance) (4.9.3)\n",
      "Requirement already satisfied: appdirs>=1.4.4 in /Users/divya/anaconda3/lib/python3.11/site-packages (from yfinance) (1.4.4)\n",
      "Requirement already satisfied: pytz>=2022.5 in /Users/divya/anaconda3/lib/python3.11/site-packages (from yfinance) (2023.3.post1)\n",
      "Requirement already satisfied: frozendict>=2.3.4 in /Users/divya/anaconda3/lib/python3.11/site-packages (from yfinance) (2.4.0)\n",
      "Requirement already satisfied: peewee>=3.16.2 in /Users/divya/anaconda3/lib/python3.11/site-packages (from yfinance) (3.17.1)\n",
      "Requirement already satisfied: beautifulsoup4>=4.11.1 in /Users/divya/anaconda3/lib/python3.11/site-packages (from yfinance) (4.12.2)\n",
      "Requirement already satisfied: html5lib>=1.1 in /Users/divya/anaconda3/lib/python3.11/site-packages (from yfinance) (1.1)\n",
      "Requirement already satisfied: soupsieve>1.2 in /Users/divya/anaconda3/lib/python3.11/site-packages (from beautifulsoup4>=4.11.1->yfinance) (2.5)\n",
      "Requirement already satisfied: six>=1.9 in /Users/divya/anaconda3/lib/python3.11/site-packages (from html5lib>=1.1->yfinance) (1.16.0)\n",
      "Requirement already satisfied: webencodings in /Users/divya/anaconda3/lib/python3.11/site-packages (from html5lib>=1.1->yfinance) (0.5.1)\n",
      "Requirement already satisfied: python-dateutil>=2.8.2 in /Users/divya/anaconda3/lib/python3.11/site-packages (from pandas>=1.3.0->yfinance) (2.8.2)\n",
      "Requirement already satisfied: tzdata>=2022.1 in /Users/divya/anaconda3/lib/python3.11/site-packages (from pandas>=1.3.0->yfinance) (2023.3)\n",
      "Requirement already satisfied: charset-normalizer<4,>=2 in /Users/divya/anaconda3/lib/python3.11/site-packages (from requests>=2.31->yfinance) (2.0.4)\n",
      "Requirement already satisfied: idna<4,>=2.5 in /Users/divya/anaconda3/lib/python3.11/site-packages (from requests>=2.31->yfinance) (3.4)\n",
      "Requirement already satisfied: urllib3<3,>=1.21.1 in /Users/divya/anaconda3/lib/python3.11/site-packages (from requests>=2.31->yfinance) (1.26.18)\n",
      "Requirement already satisfied: certifi>=2017.4.17 in /Users/divya/anaconda3/lib/python3.11/site-packages (from requests>=2.31->yfinance) (2023.11.17)\n"
     ]
    }
   ],
   "source": [
    "!pip install yfinance"
   ]
  },
  {
   "cell_type": "code",
   "execution_count": 32,
   "metadata": {
    "colab": {
     "base_uri": "https://localhost:8080/"
    },
    "id": "eW9J_z29pIbO",
    "outputId": "bc72e4e5-c269-42fd-bfcd-19cf21284767"
   },
   "outputs": [
    {
     "name": "stderr",
     "output_type": "stream",
     "text": [
      "[*********************100%%**********************]  6 of 6 completed"
     ]
    },
    {
     "name": "stdout",
     "output_type": "stream",
     "text": [
      "Ticker            AAPL        AMZN         AXP       GOOGL         IBM  \\\n",
      "Date                                                                     \n",
      "2024-02-01  186.621872  159.279999  203.220001  141.160004  185.211441   \n",
      "2024-02-02  185.613159  171.809998  206.410004  142.380005  184.111465   \n",
      "2024-02-05  187.440811  170.309998  205.940002  143.679993  181.762894   \n",
      "2024-02-06  189.058762  169.149994  205.649994  144.100006  181.752991   \n",
      "2024-02-07  189.168625  170.529999  209.080002  145.539993  182.080002   \n",
      "\n",
      "Ticker             NKE  \n",
      "Date                    \n",
      "2024-02-01  101.397728  \n",
      "2024-02-02  100.351463  \n",
      "2024-02-05   99.325134  \n",
      "2024-02-06  102.244705  \n",
      "2024-02-07  103.420502  \n"
     ]
    },
    {
     "name": "stderr",
     "output_type": "stream",
     "text": [
      "\n"
     ]
    }
   ],
   "source": [
    "import pandas as pd\n",
    "import yfinance as yf\n",
    "\n",
    "start_date = '2024-02-01'\n",
    "end_date = '2024-03-01'\n",
    "tickers_list = ['AAPL', 'NKE', 'IBM', 'GOOGL','AXP','AMZN']\n",
    "\n",
    "# Fetch the data\n",
    "data = yf.download(tickers_list, start=start_date, end=end_date)['Adj Close']\n",
    "\n",
    "# Print first 5 rows of the data\n",
    "print(data.head())"
   ]
  },
  {
   "cell_type": "code",
   "execution_count": 33,
   "metadata": {
    "colab": {
     "base_uri": "https://localhost:8080/",
     "height": 455
    },
    "id": "M5cRRzNzwhba",
    "outputId": "80548904-a68c-40be-8cf2-b2e419bd954a"
   },
   "outputs": [
    {
     "data": {
      "text/html": [
       "<div>\n",
       "<style scoped>\n",
       "    .dataframe tbody tr th:only-of-type {\n",
       "        vertical-align: middle;\n",
       "    }\n",
       "\n",
       "    .dataframe tbody tr th {\n",
       "        vertical-align: top;\n",
       "    }\n",
       "\n",
       "    .dataframe thead th {\n",
       "        text-align: right;\n",
       "    }\n",
       "</style>\n",
       "<table border=\"1\" class=\"dataframe\">\n",
       "  <thead>\n",
       "    <tr style=\"text-align: right;\">\n",
       "      <th>Ticker</th>\n",
       "      <th>AAPL</th>\n",
       "      <th>AMZN</th>\n",
       "      <th>AXP</th>\n",
       "      <th>GOOGL</th>\n",
       "      <th>IBM</th>\n",
       "      <th>NKE</th>\n",
       "    </tr>\n",
       "    <tr>\n",
       "      <th>Date</th>\n",
       "      <th></th>\n",
       "      <th></th>\n",
       "      <th></th>\n",
       "      <th></th>\n",
       "      <th></th>\n",
       "      <th></th>\n",
       "    </tr>\n",
       "  </thead>\n",
       "  <tbody>\n",
       "    <tr>\n",
       "      <th>2024-02-01</th>\n",
       "      <td>186.621872</td>\n",
       "      <td>159.279999</td>\n",
       "      <td>203.220001</td>\n",
       "      <td>141.160004</td>\n",
       "      <td>185.211441</td>\n",
       "      <td>101.397728</td>\n",
       "    </tr>\n",
       "    <tr>\n",
       "      <th>2024-02-02</th>\n",
       "      <td>185.613159</td>\n",
       "      <td>171.809998</td>\n",
       "      <td>206.410004</td>\n",
       "      <td>142.380005</td>\n",
       "      <td>184.111465</td>\n",
       "      <td>100.351463</td>\n",
       "    </tr>\n",
       "    <tr>\n",
       "      <th>2024-02-05</th>\n",
       "      <td>187.440811</td>\n",
       "      <td>170.309998</td>\n",
       "      <td>205.940002</td>\n",
       "      <td>143.679993</td>\n",
       "      <td>181.762894</td>\n",
       "      <td>99.325134</td>\n",
       "    </tr>\n",
       "    <tr>\n",
       "      <th>2024-02-06</th>\n",
       "      <td>189.058762</td>\n",
       "      <td>169.149994</td>\n",
       "      <td>205.649994</td>\n",
       "      <td>144.100006</td>\n",
       "      <td>181.752991</td>\n",
       "      <td>102.244705</td>\n",
       "    </tr>\n",
       "    <tr>\n",
       "      <th>2024-02-07</th>\n",
       "      <td>189.168625</td>\n",
       "      <td>170.529999</td>\n",
       "      <td>209.080002</td>\n",
       "      <td>145.539993</td>\n",
       "      <td>182.080002</td>\n",
       "      <td>103.420502</td>\n",
       "    </tr>\n",
       "    <tr>\n",
       "      <th>2024-02-08</th>\n",
       "      <td>188.080017</td>\n",
       "      <td>169.839996</td>\n",
       "      <td>211.210007</td>\n",
       "      <td>145.910004</td>\n",
       "      <td>184.360001</td>\n",
       "      <td>103.400566</td>\n",
       "    </tr>\n",
       "    <tr>\n",
       "      <th>2024-02-09</th>\n",
       "      <td>188.850006</td>\n",
       "      <td>174.449997</td>\n",
       "      <td>212.470001</td>\n",
       "      <td>149.000000</td>\n",
       "      <td>186.339996</td>\n",
       "      <td>104.127975</td>\n",
       "    </tr>\n",
       "    <tr>\n",
       "      <th>2024-02-12</th>\n",
       "      <td>187.149994</td>\n",
       "      <td>172.339996</td>\n",
       "      <td>212.259995</td>\n",
       "      <td>147.529999</td>\n",
       "      <td>186.160004</td>\n",
       "      <td>106.798431</td>\n",
       "    </tr>\n",
       "    <tr>\n",
       "      <th>2024-02-13</th>\n",
       "      <td>185.039993</td>\n",
       "      <td>168.639999</td>\n",
       "      <td>209.669998</td>\n",
       "      <td>145.139999</td>\n",
       "      <td>183.699997</td>\n",
       "      <td>104.626190</td>\n",
       "    </tr>\n",
       "    <tr>\n",
       "      <th>2024-02-14</th>\n",
       "      <td>184.149994</td>\n",
       "      <td>170.979996</td>\n",
       "      <td>210.899994</td>\n",
       "      <td>145.940002</td>\n",
       "      <td>183.570007</td>\n",
       "      <td>105.951462</td>\n",
       "    </tr>\n",
       "    <tr>\n",
       "      <th>2024-02-15</th>\n",
       "      <td>183.860001</td>\n",
       "      <td>169.800003</td>\n",
       "      <td>212.529999</td>\n",
       "      <td>142.770004</td>\n",
       "      <td>186.869995</td>\n",
       "      <td>105.672455</td>\n",
       "    </tr>\n",
       "    <tr>\n",
       "      <th>2024-02-16</th>\n",
       "      <td>182.309998</td>\n",
       "      <td>169.509995</td>\n",
       "      <td>212.559998</td>\n",
       "      <td>140.520004</td>\n",
       "      <td>187.639999</td>\n",
       "      <td>103.141502</td>\n",
       "    </tr>\n",
       "    <tr>\n",
       "      <th>2024-02-20</th>\n",
       "      <td>181.559998</td>\n",
       "      <td>167.080002</td>\n",
       "      <td>212.490005</td>\n",
       "      <td>141.119995</td>\n",
       "      <td>183.440002</td>\n",
       "      <td>102.932251</td>\n",
       "    </tr>\n",
       "    <tr>\n",
       "      <th>2024-02-21</th>\n",
       "      <td>182.320007</td>\n",
       "      <td>168.589996</td>\n",
       "      <td>210.889999</td>\n",
       "      <td>142.550003</td>\n",
       "      <td>179.699997</td>\n",
       "      <td>104.895226</td>\n",
       "    </tr>\n",
       "    <tr>\n",
       "      <th>2024-02-22</th>\n",
       "      <td>184.369995</td>\n",
       "      <td>174.580002</td>\n",
       "      <td>213.990005</td>\n",
       "      <td>144.089996</td>\n",
       "      <td>184.210007</td>\n",
       "      <td>104.705910</td>\n",
       "    </tr>\n",
       "    <tr>\n",
       "      <th>2024-02-23</th>\n",
       "      <td>182.520004</td>\n",
       "      <td>174.990005</td>\n",
       "      <td>214.559998</td>\n",
       "      <td>143.960007</td>\n",
       "      <td>185.720001</td>\n",
       "      <td>105.253944</td>\n",
       "    </tr>\n",
       "    <tr>\n",
       "      <th>2024-02-26</th>\n",
       "      <td>181.160004</td>\n",
       "      <td>174.729996</td>\n",
       "      <td>216.960007</td>\n",
       "      <td>137.570007</td>\n",
       "      <td>184.130005</td>\n",
       "      <td>104.167831</td>\n",
       "    </tr>\n",
       "    <tr>\n",
       "      <th>2024-02-27</th>\n",
       "      <td>182.630005</td>\n",
       "      <td>173.539993</td>\n",
       "      <td>217.979996</td>\n",
       "      <td>138.880005</td>\n",
       "      <td>184.869995</td>\n",
       "      <td>104.775658</td>\n",
       "    </tr>\n",
       "    <tr>\n",
       "      <th>2024-02-28</th>\n",
       "      <td>181.419998</td>\n",
       "      <td>173.160004</td>\n",
       "      <td>218.029999</td>\n",
       "      <td>136.380005</td>\n",
       "      <td>185.300003</td>\n",
       "      <td>103.978508</td>\n",
       "    </tr>\n",
       "    <tr>\n",
       "      <th>2024-02-29</th>\n",
       "      <td>180.750000</td>\n",
       "      <td>176.759995</td>\n",
       "      <td>219.419998</td>\n",
       "      <td>138.460007</td>\n",
       "      <td>185.029999</td>\n",
       "      <td>103.560005</td>\n",
       "    </tr>\n",
       "  </tbody>\n",
       "</table>\n",
       "</div>"
      ],
      "text/plain": [
       "Ticker            AAPL        AMZN         AXP       GOOGL         IBM  \\\n",
       "Date                                                                     \n",
       "2024-02-01  186.621872  159.279999  203.220001  141.160004  185.211441   \n",
       "2024-02-02  185.613159  171.809998  206.410004  142.380005  184.111465   \n",
       "2024-02-05  187.440811  170.309998  205.940002  143.679993  181.762894   \n",
       "2024-02-06  189.058762  169.149994  205.649994  144.100006  181.752991   \n",
       "2024-02-07  189.168625  170.529999  209.080002  145.539993  182.080002   \n",
       "2024-02-08  188.080017  169.839996  211.210007  145.910004  184.360001   \n",
       "2024-02-09  188.850006  174.449997  212.470001  149.000000  186.339996   \n",
       "2024-02-12  187.149994  172.339996  212.259995  147.529999  186.160004   \n",
       "2024-02-13  185.039993  168.639999  209.669998  145.139999  183.699997   \n",
       "2024-02-14  184.149994  170.979996  210.899994  145.940002  183.570007   \n",
       "2024-02-15  183.860001  169.800003  212.529999  142.770004  186.869995   \n",
       "2024-02-16  182.309998  169.509995  212.559998  140.520004  187.639999   \n",
       "2024-02-20  181.559998  167.080002  212.490005  141.119995  183.440002   \n",
       "2024-02-21  182.320007  168.589996  210.889999  142.550003  179.699997   \n",
       "2024-02-22  184.369995  174.580002  213.990005  144.089996  184.210007   \n",
       "2024-02-23  182.520004  174.990005  214.559998  143.960007  185.720001   \n",
       "2024-02-26  181.160004  174.729996  216.960007  137.570007  184.130005   \n",
       "2024-02-27  182.630005  173.539993  217.979996  138.880005  184.869995   \n",
       "2024-02-28  181.419998  173.160004  218.029999  136.380005  185.300003   \n",
       "2024-02-29  180.750000  176.759995  219.419998  138.460007  185.029999   \n",
       "\n",
       "Ticker             NKE  \n",
       "Date                    \n",
       "2024-02-01  101.397728  \n",
       "2024-02-02  100.351463  \n",
       "2024-02-05   99.325134  \n",
       "2024-02-06  102.244705  \n",
       "2024-02-07  103.420502  \n",
       "2024-02-08  103.400566  \n",
       "2024-02-09  104.127975  \n",
       "2024-02-12  106.798431  \n",
       "2024-02-13  104.626190  \n",
       "2024-02-14  105.951462  \n",
       "2024-02-15  105.672455  \n",
       "2024-02-16  103.141502  \n",
       "2024-02-20  102.932251  \n",
       "2024-02-21  104.895226  \n",
       "2024-02-22  104.705910  \n",
       "2024-02-23  105.253944  \n",
       "2024-02-26  104.167831  \n",
       "2024-02-27  104.775658  \n",
       "2024-02-28  103.978508  \n",
       "2024-02-29  103.560005  "
      ]
     },
     "execution_count": 33,
     "metadata": {},
     "output_type": "execute_result"
    }
   ],
   "source": [
    "data"
   ]
  },
  {
   "cell_type": "code",
   "execution_count": null,
   "metadata": {
    "id": "wSoSZZ30UBjW"
   },
   "outputs": [],
   "source": []
  },
  {
   "cell_type": "markdown",
   "metadata": {
    "id": "jQhoeVqkyAZ0"
   },
   "source": [
    "We are having 5 shares of Apple,Amazon,American Express,Google,IBM,Nike as our  portfolio which we would look to optimize using Modern Portfolio Theory "
   ]
  },
  {
   "cell_type": "code",
   "execution_count": 34,
   "metadata": {
    "colab": {
     "base_uri": "https://localhost:8080/",
     "height": 237
    },
    "id": "NNDwTB9kxCif",
    "outputId": "ff666751-5691-40b8-dada-66340b503567"
   },
   "outputs": [
    {
     "data": {
      "text/html": [
       "<div>\n",
       "<style scoped>\n",
       "    .dataframe tbody tr th:only-of-type {\n",
       "        vertical-align: middle;\n",
       "    }\n",
       "\n",
       "    .dataframe tbody tr th {\n",
       "        vertical-align: top;\n",
       "    }\n",
       "\n",
       "    .dataframe thead th {\n",
       "        text-align: right;\n",
       "    }\n",
       "</style>\n",
       "<table border=\"1\" class=\"dataframe\">\n",
       "  <thead>\n",
       "    <tr style=\"text-align: right;\">\n",
       "      <th>Ticker</th>\n",
       "      <th>AAPL</th>\n",
       "      <th>AMZN</th>\n",
       "      <th>AXP</th>\n",
       "      <th>GOOGL</th>\n",
       "      <th>IBM</th>\n",
       "      <th>NKE</th>\n",
       "    </tr>\n",
       "    <tr>\n",
       "      <th>Date</th>\n",
       "      <th></th>\n",
       "      <th></th>\n",
       "      <th></th>\n",
       "      <th></th>\n",
       "      <th></th>\n",
       "      <th></th>\n",
       "    </tr>\n",
       "  </thead>\n",
       "  <tbody>\n",
       "    <tr>\n",
       "      <th>2024-02-01</th>\n",
       "      <td>NaN</td>\n",
       "      <td>NaN</td>\n",
       "      <td>NaN</td>\n",
       "      <td>NaN</td>\n",
       "      <td>NaN</td>\n",
       "      <td>NaN</td>\n",
       "    </tr>\n",
       "    <tr>\n",
       "      <th>2024-02-02</th>\n",
       "      <td>-0.005405</td>\n",
       "      <td>0.078666</td>\n",
       "      <td>0.015697</td>\n",
       "      <td>0.008643</td>\n",
       "      <td>-0.005939</td>\n",
       "      <td>-0.010318</td>\n",
       "    </tr>\n",
       "    <tr>\n",
       "      <th>2024-02-05</th>\n",
       "      <td>0.009847</td>\n",
       "      <td>-0.008731</td>\n",
       "      <td>-0.002277</td>\n",
       "      <td>0.009130</td>\n",
       "      <td>-0.012756</td>\n",
       "      <td>-0.010227</td>\n",
       "    </tr>\n",
       "    <tr>\n",
       "      <th>2024-02-06</th>\n",
       "      <td>0.008632</td>\n",
       "      <td>-0.006811</td>\n",
       "      <td>-0.001408</td>\n",
       "      <td>0.002923</td>\n",
       "      <td>-0.000054</td>\n",
       "      <td>0.029394</td>\n",
       "    </tr>\n",
       "    <tr>\n",
       "      <th>2024-02-07</th>\n",
       "      <td>0.000581</td>\n",
       "      <td>0.008158</td>\n",
       "      <td>0.016679</td>\n",
       "      <td>0.009993</td>\n",
       "      <td>0.001799</td>\n",
       "      <td>0.011500</td>\n",
       "    </tr>\n",
       "  </tbody>\n",
       "</table>\n",
       "</div>"
      ],
      "text/plain": [
       "Ticker          AAPL      AMZN       AXP     GOOGL       IBM       NKE\n",
       "Date                                                                  \n",
       "2024-02-01       NaN       NaN       NaN       NaN       NaN       NaN\n",
       "2024-02-02 -0.005405  0.078666  0.015697  0.008643 -0.005939 -0.010318\n",
       "2024-02-05  0.009847 -0.008731 -0.002277  0.009130 -0.012756 -0.010227\n",
       "2024-02-06  0.008632 -0.006811 -0.001408  0.002923 -0.000054  0.029394\n",
       "2024-02-07  0.000581  0.008158  0.016679  0.009993  0.001799  0.011500"
      ]
     },
     "execution_count": 34,
     "metadata": {},
     "output_type": "execute_result"
    }
   ],
   "source": [
    "returns=data.pct_change()\n",
    "returns.head()"
   ]
  },
  {
   "cell_type": "markdown",
   "metadata": {
    "id": "ojbNyusLyfFT"
   },
   "source": [
    ".pct_change helps us to know how that stock moved with respect to the last day by giving us the percentage change.The first column is NAN because we have no column to compare the first column with \n",
    "\n",
    "---\n",
    "Returns of a company is the gain/loss of the portfolio during a particular time frame.We took the timeframe one day with respect to our case\n",
    "\n"
   ]
  },
  {
   "cell_type": "markdown",
   "metadata": {
    "id": "FmsHWdivyyfC"
   },
   "source": [
    "We can see in the head that stocks with negative pct_change fell down in value when they closed on the subsequent day and the positive pct_change signifies that the stocks went up in the value when they closed \n",
    "\n"
   ]
  },
  {
   "cell_type": "code",
   "execution_count": 35,
   "metadata": {
    "colab": {
     "base_uri": "https://localhost:8080/"
    },
    "id": "I6ks4a7dyuCu",
    "outputId": "bf2357c8-8c6b-46d8-d8e7-3db6b4da49c3"
   },
   "outputs": [
    {
     "data": {
      "text/plain": [
       "Date\n",
       "2024-02-01         NaN\n",
       "2024-02-02    0.012898\n",
       "2024-02-05    0.000338\n",
       "2024-02-06    0.002601\n",
       "2024-02-07    0.009523\n",
       "dtype: float64"
      ]
     },
     "execution_count": 35,
     "metadata": {},
     "output_type": "execute_result"
    }
   ],
   "source": [
    "weights_of_portfolio=[0.2,0.1,0.35,0.2,0.1,0.05]\n",
    "return_portfolio=returns.dot(weights_of_portfolio)\n",
    "return_portfolio.head()"
   ]
  },
  {
   "cell_type": "markdown",
   "metadata": {
    "id": "PHWf6Iyyzp-f"
   },
   "source": [
    "We will now assign random weights to different assets which will be rectified later to get the best stock portfolio \n",
    "\n",
    "---\n",
    "Return of a portfolio will be return of the assets multiplied the weights given to the particular stock so that we make a balanced portfolio \n",
    "\n",
    "---\n",
    "Keep in Mind that weights_of_portfolio should be equal to 1 \n",
    "\n",
    "\n"
   ]
  },
  {
   "cell_type": "code",
   "execution_count": 36,
   "metadata": {
    "id": "TTp-MKbv0GTR"
   },
   "outputs": [],
   "source": [
    "#Risk\n",
    "covariance_portfolio=returns.cov()*252\n"
   ]
  },
  {
   "cell_type": "markdown",
   "metadata": {
    "id": "hRtX-BZIZW0B"
   },
   "source": [
    "For risk management we will use covariance \n",
    "What is covariance:- Co-Variance of stock signifies that the movement of the stock with respect to another stock.Positive Co-Variance means that the stock will rise if the other stock rises,Negative Co-Variance means that the stock A will decrease if Stock B will rise.\n",
    "\n",
    "---\n",
    "For Risk management we will try to get a negative co-variance as to minimize the risk because if one stock will fall down we would have a another stock to rise up so that all of our money wouldn't fall down \n",
    "\n",
    "---\n",
    "we Multiplied 252 days as these are number of the days stock would be traded\n",
    "\n",
    "\n"
   ]
  },
  {
   "cell_type": "code",
   "execution_count": 37,
   "metadata": {
    "colab": {
     "base_uri": "https://localhost:8080/",
     "height": 237
    },
    "id": "QMYq4ogEZ_xI",
    "outputId": "5c6f347b-ecb3-4cb6-9866-dd1b6d5fcf5e"
   },
   "outputs": [
    {
     "data": {
      "text/html": [
       "<div>\n",
       "<style scoped>\n",
       "    .dataframe tbody tr th:only-of-type {\n",
       "        vertical-align: middle;\n",
       "    }\n",
       "\n",
       "    .dataframe tbody tr th {\n",
       "        vertical-align: top;\n",
       "    }\n",
       "\n",
       "    .dataframe thead th {\n",
       "        text-align: right;\n",
       "    }\n",
       "</style>\n",
       "<table border=\"1\" class=\"dataframe\">\n",
       "  <thead>\n",
       "    <tr style=\"text-align: right;\">\n",
       "      <th>Ticker</th>\n",
       "      <th>AAPL</th>\n",
       "      <th>AMZN</th>\n",
       "      <th>AXP</th>\n",
       "      <th>GOOGL</th>\n",
       "      <th>IBM</th>\n",
       "      <th>NKE</th>\n",
       "    </tr>\n",
       "    <tr>\n",
       "      <th>Ticker</th>\n",
       "      <th></th>\n",
       "      <th></th>\n",
       "      <th></th>\n",
       "      <th></th>\n",
       "      <th></th>\n",
       "      <th></th>\n",
       "    </tr>\n",
       "  </thead>\n",
       "  <tbody>\n",
       "    <tr>\n",
       "      <th>AAPL</th>\n",
       "      <td>0.013217</td>\n",
       "      <td>0.005956</td>\n",
       "      <td>0.001782</td>\n",
       "      <td>0.016192</td>\n",
       "      <td>0.003790</td>\n",
       "      <td>0.008846</td>\n",
       "    </tr>\n",
       "    <tr>\n",
       "      <th>AMZN</th>\n",
       "      <td>0.005956</td>\n",
       "      <td>0.131555</td>\n",
       "      <td>0.026987</td>\n",
       "      <td>0.039390</td>\n",
       "      <td>0.014699</td>\n",
       "      <td>-0.004887</td>\n",
       "    </tr>\n",
       "    <tr>\n",
       "      <th>AXP</th>\n",
       "      <td>0.001782</td>\n",
       "      <td>0.026987</td>\n",
       "      <td>0.014950</td>\n",
       "      <td>0.004037</td>\n",
       "      <td>0.012875</td>\n",
       "      <td>-0.000549</td>\n",
       "    </tr>\n",
       "    <tr>\n",
       "      <th>GOOGL</th>\n",
       "      <td>0.016192</td>\n",
       "      <td>0.039390</td>\n",
       "      <td>0.004037</td>\n",
       "      <td>0.065417</td>\n",
       "      <td>0.002655</td>\n",
       "      <td>0.021248</td>\n",
       "    </tr>\n",
       "    <tr>\n",
       "      <th>IBM</th>\n",
       "      <td>0.003790</td>\n",
       "      <td>0.014699</td>\n",
       "      <td>0.012875</td>\n",
       "      <td>0.002655</td>\n",
       "      <td>0.037804</td>\n",
       "      <td>0.001774</td>\n",
       "    </tr>\n",
       "    <tr>\n",
       "      <th>NKE</th>\n",
       "      <td>0.008846</td>\n",
       "      <td>-0.004887</td>\n",
       "      <td>-0.000549</td>\n",
       "      <td>0.021248</td>\n",
       "      <td>0.001774</td>\n",
       "      <td>0.051166</td>\n",
       "    </tr>\n",
       "  </tbody>\n",
       "</table>\n",
       "</div>"
      ],
      "text/plain": [
       "Ticker      AAPL      AMZN       AXP     GOOGL       IBM       NKE\n",
       "Ticker                                                            \n",
       "AAPL    0.013217  0.005956  0.001782  0.016192  0.003790  0.008846\n",
       "AMZN    0.005956  0.131555  0.026987  0.039390  0.014699 -0.004887\n",
       "AXP     0.001782  0.026987  0.014950  0.004037  0.012875 -0.000549\n",
       "GOOGL   0.016192  0.039390  0.004037  0.065417  0.002655  0.021248\n",
       "IBM     0.003790  0.014699  0.012875  0.002655  0.037804  0.001774\n",
       "NKE     0.008846 -0.004887 -0.000549  0.021248  0.001774  0.051166"
      ]
     },
     "execution_count": 37,
     "metadata": {},
     "output_type": "execute_result"
    }
   ],
   "source": [
    "covariance_portfolio"
   ]
  },
  {
   "cell_type": "code",
   "execution_count": 38,
   "metadata": {
    "id": "1xHGoUo9eG5x"
   },
   "outputs": [],
   "source": [
    "import numpy as np "
   ]
  },
  {
   "cell_type": "code",
   "execution_count": 39,
   "metadata": {
    "id": "40lrvpAnbm4h"
   },
   "outputs": [],
   "source": [
    "portfolio_variance=np.transpose(weights_of_portfolio)@covariance_portfolio@weights_of_portfolio"
   ]
  },
  {
   "cell_type": "markdown",
   "metadata": {
    "id": "AHtN0PLWpUVt"
   },
   "source": [
    "The @ symbol signifies the matmul symbol which would signify the matrix multiplication of covariance with their respective weights we multiply it twice so that element of each weight gets covered "
   ]
  },
  {
   "cell_type": "code",
   "execution_count": 40,
   "metadata": {
    "id": "_jw3JCTDeLli"
   },
   "outputs": [],
   "source": [
    "portfolio_volatility=np.sqrt(portfolio_variance)"
   ]
  },
  {
   "cell_type": "code",
   "execution_count": 41,
   "metadata": {
    "colab": {
     "base_uri": "https://localhost:8080/"
    },
    "id": "JWQlj1Q_sUvG",
    "outputId": "1f932bde-ce7e-496b-9c50-9eda907d8778"
   },
   "outputs": [
    {
     "data": {
      "text/plain": [
       "0.12089549687243151"
      ]
     },
     "execution_count": 41,
     "metadata": {},
     "output_type": "execute_result"
    }
   ],
   "source": [
    "portfolio_volatility"
   ]
  },
  {
   "cell_type": "code",
   "execution_count": 42,
   "metadata": {
    "id": "hE7CFzKMsXyx"
   },
   "outputs": [],
   "source": [
    "port_returns=[]\n",
    "port_volatility=[]\n",
    "port_weights=[]\n",
    "num_assets=len(data.columns)\n",
    "num_portfolios=10000\n",
    "\n",
    "individual_returns=data.resample('M').last().pct_change().mean()"
   ]
  },
  {
   "cell_type": "code",
   "execution_count": 43,
   "metadata": {
    "colab": {
     "base_uri": "https://localhost:8080/"
    },
    "id": "Vtki2uBZBsEa",
    "outputId": "4b9dee1a-1435-4cf1-e3e0-34b8955e432e"
   },
   "outputs": [
    {
     "data": {
      "text/plain": [
       "[]"
      ]
     },
     "execution_count": 43,
     "metadata": {},
     "output_type": "execute_result"
    }
   ],
   "source": [
    "port_returns"
   ]
  },
  {
   "cell_type": "markdown",
   "metadata": {
    "id": "N0KLmD1ZHZIo"
   },
   "source": [
    "We will use the modern portfolio theory for this use in this we get to know that whenever we have to make a portfolio of a stock we have to maximize the returns for a given stock but if we can not find a maximum value we will look to minimize the risk for a particular stock \n",
    "\n",
    "---\n",
    "For Minimizing risk for a particular stock we will find the volatilty with respect to the stock by initializing random weights and we will find the minimum risk for that particular weight\n"
   ]
  },
  {
   "cell_type": "code",
   "execution_count": 44,
   "metadata": {
    "colab": {
     "base_uri": "https://localhost:8080/"
    },
    "id": "8LBaehMJH_Eo",
    "outputId": "87e752bd-e78e-40d0-aad0-b01adf25fdb7"
   },
   "outputs": [
    {
     "data": {
      "text/plain": [
       "Ticker\n",
       "AAPL    NaN\n",
       "AMZN    NaN\n",
       "AXP     NaN\n",
       "GOOGL   NaN\n",
       "IBM     NaN\n",
       "NKE     NaN\n",
       "dtype: float64"
      ]
     },
     "execution_count": 44,
     "metadata": {},
     "output_type": "execute_result"
    }
   ],
   "source": [
    "individual_returns"
   ]
  },
  {
   "cell_type": "code",
   "execution_count": 45,
   "metadata": {
    "colab": {
     "base_uri": "https://localhost:8080/"
    },
    "id": "g__AaABKcqRj",
    "outputId": "939cafe5-e07e-4311-d44b-50d920e55ce9"
   },
   "outputs": [
    {
     "data": {
      "text/plain": [
       "6"
      ]
     },
     "execution_count": 45,
     "metadata": {},
     "output_type": "execute_result"
    }
   ],
   "source": [
    "len(individual_returns)"
   ]
  },
  {
   "cell_type": "code",
   "execution_count": 46,
   "metadata": {
    "id": "grzfBG5fIS-H"
   },
   "outputs": [],
   "source": [
    "for port in range(num_portfolios):\n",
    "  weights=np.random.random(num_assets)\n",
    "  weights=weights/np.sum(weights)\n",
    "  port_weights.append(weights)\n",
    "  returns=np.dot(weights,individual_returns)\n",
    "  port_returns.append(returns)\n",
    "  var=covariance_portfolio.mul(weights,axis=0).mul(weights,axis=1).sum().sum()\n",
    "  var=var*250\n",
    "  sd=np.sqrt(var)\n",
    "  port_volatility.append(sd)"
   ]
  },
  {
   "cell_type": "markdown",
   "metadata": {
    "id": "zjaLGbldaWt7"
   },
   "source": [
    "We will store random weights and then look returns and variance for each weight and store them in a list \n",
    "\n",
    "---\n",
    "Now we are using 10000 variables in the dataset so that we can get a overall weights of all combined we can use even more but for this project I am taking 10000 iterations\n",
    "\n",
    "---\n",
    "We will multiply the random weights to find the volatility of the stock for that weight and then find the returns from that stock as well to see the risk vs reward ratio to decide the final thing \n",
    "\n"
   ]
  },
  {
   "cell_type": "code",
   "execution_count": 47,
   "metadata": {
    "colab": {
     "base_uri": "https://localhost:8080/"
    },
    "id": "Nhk8HNsSfcz7",
    "outputId": "c48199ec-d1d8-4726-9678-afb3341d935a"
   },
   "outputs": [
    {
     "data": {
      "text/plain": [
       "10000"
      ]
     },
     "execution_count": 47,
     "metadata": {},
     "output_type": "execute_result"
    }
   ],
   "source": [
    "len(port_weights)"
   ]
  },
  {
   "cell_type": "code",
   "execution_count": 48,
   "metadata": {
    "colab": {
     "base_uri": "https://localhost:8080/"
    },
    "id": "R2WMZWOxgA6y",
    "outputId": "77cfb98c-851e-4db5-e924-2cad180a74c0"
   },
   "outputs": [
    {
     "data": {
      "text/plain": [
       "10000"
      ]
     },
     "execution_count": 48,
     "metadata": {},
     "output_type": "execute_result"
    }
   ],
   "source": [
    "len(port_returns)"
   ]
  },
  {
   "cell_type": "code",
   "execution_count": 49,
   "metadata": {
    "colab": {
     "base_uri": "https://localhost:8080/"
    },
    "id": "GnAQwK4MgEd_",
    "outputId": "2433e20c-37ae-4861-8165-7158f74630e4"
   },
   "outputs": [
    {
     "data": {
      "text/plain": [
       "10000"
      ]
     },
     "execution_count": 49,
     "metadata": {},
     "output_type": "execute_result"
    }
   ],
   "source": [
    "len(port_volatility)"
   ]
  },
  {
   "cell_type": "code",
   "execution_count": 50,
   "metadata": {
    "id": "rXwuntQxB37i"
   },
   "outputs": [],
   "source": [
    "data1={'Volatility':port_volatility,'Returns':port_returns}\n",
    "for counter,symbol in enumerate(data.columns.tolist()):\n",
    "  data1[symbol+'weight']=[w[counter] for w in port_weights]\n"
   ]
  },
  {
   "cell_type": "markdown",
   "metadata": {
    "id": "gE2on_3pd1di"
   },
   "source": [
    "We will now move forward to make a dataframe of the dataset to find the minimum value and the weight ratio \n",
    "\n",
    "---\n",
    "This will be used to find the minimum volatilty for the maximum returns so that we find the portfolio \n"
   ]
  },
  {
   "cell_type": "code",
   "execution_count": 51,
   "metadata": {
    "collapsed": true,
    "id": "0F4ppc-yB_Dz",
    "jupyter": {
     "outputs_hidden": true,
     "source_hidden": true
    }
   },
   "outputs": [],
   "source": [
    "portfolios=pd.DataFrame(data1)"
   ]
  },
  {
   "cell_type": "code",
   "execution_count": 52,
   "metadata": {
    "colab": {
     "base_uri": "https://localhost:8080/",
     "height": 423
    },
    "collapsed": true,
    "id": "pEMB834NbC27",
    "jupyter": {
     "outputs_hidden": true,
     "source_hidden": true
    },
    "outputId": "f7cda312-5483-4386-c7bf-2b99f33bd8ed"
   },
   "outputs": [
    {
     "data": {
      "text/html": [
       "<div>\n",
       "<style scoped>\n",
       "    .dataframe tbody tr th:only-of-type {\n",
       "        vertical-align: middle;\n",
       "    }\n",
       "\n",
       "    .dataframe tbody tr th {\n",
       "        vertical-align: top;\n",
       "    }\n",
       "\n",
       "    .dataframe thead th {\n",
       "        text-align: right;\n",
       "    }\n",
       "</style>\n",
       "<table border=\"1\" class=\"dataframe\">\n",
       "  <thead>\n",
       "    <tr style=\"text-align: right;\">\n",
       "      <th></th>\n",
       "      <th>Volatility</th>\n",
       "      <th>Returns</th>\n",
       "      <th>AAPLweight</th>\n",
       "      <th>AMZNweight</th>\n",
       "      <th>AXPweight</th>\n",
       "      <th>GOOGLweight</th>\n",
       "      <th>IBMweight</th>\n",
       "      <th>NKEweight</th>\n",
       "    </tr>\n",
       "  </thead>\n",
       "  <tbody>\n",
       "    <tr>\n",
       "      <th>0</th>\n",
       "      <td>1.854475</td>\n",
       "      <td>NaN</td>\n",
       "      <td>0.197958</td>\n",
       "      <td>0.033171</td>\n",
       "      <td>0.143340</td>\n",
       "      <td>0.179862</td>\n",
       "      <td>0.242585</td>\n",
       "      <td>0.203085</td>\n",
       "    </tr>\n",
       "    <tr>\n",
       "      <th>1</th>\n",
       "      <td>2.727041</td>\n",
       "      <td>NaN</td>\n",
       "      <td>0.072700</td>\n",
       "      <td>0.119593</td>\n",
       "      <td>0.268804</td>\n",
       "      <td>0.513687</td>\n",
       "      <td>0.023417</td>\n",
       "      <td>0.001800</td>\n",
       "    </tr>\n",
       "    <tr>\n",
       "      <th>2</th>\n",
       "      <td>1.852871</td>\n",
       "      <td>NaN</td>\n",
       "      <td>0.201775</td>\n",
       "      <td>0.130986</td>\n",
       "      <td>0.204547</td>\n",
       "      <td>0.075589</td>\n",
       "      <td>0.181301</td>\n",
       "      <td>0.205801</td>\n",
       "    </tr>\n",
       "    <tr>\n",
       "      <th>3</th>\n",
       "      <td>2.448674</td>\n",
       "      <td>NaN</td>\n",
       "      <td>0.241953</td>\n",
       "      <td>0.320743</td>\n",
       "      <td>0.039050</td>\n",
       "      <td>0.057916</td>\n",
       "      <td>0.220341</td>\n",
       "      <td>0.119997</td>\n",
       "    </tr>\n",
       "    <tr>\n",
       "      <th>4</th>\n",
       "      <td>2.230099</td>\n",
       "      <td>NaN</td>\n",
       "      <td>0.107197</td>\n",
       "      <td>0.178551</td>\n",
       "      <td>0.222483</td>\n",
       "      <td>0.210599</td>\n",
       "      <td>0.063189</td>\n",
       "      <td>0.217981</td>\n",
       "    </tr>\n",
       "    <tr>\n",
       "      <th>...</th>\n",
       "      <td>...</td>\n",
       "      <td>...</td>\n",
       "      <td>...</td>\n",
       "      <td>...</td>\n",
       "      <td>...</td>\n",
       "      <td>...</td>\n",
       "      <td>...</td>\n",
       "      <td>...</td>\n",
       "    </tr>\n",
       "    <tr>\n",
       "      <th>9995</th>\n",
       "      <td>2.200233</td>\n",
       "      <td>NaN</td>\n",
       "      <td>0.052915</td>\n",
       "      <td>0.206857</td>\n",
       "      <td>0.227575</td>\n",
       "      <td>0.107559</td>\n",
       "      <td>0.237305</td>\n",
       "      <td>0.167788</td>\n",
       "    </tr>\n",
       "    <tr>\n",
       "      <th>9996</th>\n",
       "      <td>2.350885</td>\n",
       "      <td>NaN</td>\n",
       "      <td>0.341231</td>\n",
       "      <td>0.304866</td>\n",
       "      <td>0.026488</td>\n",
       "      <td>0.042294</td>\n",
       "      <td>0.211532</td>\n",
       "      <td>0.073589</td>\n",
       "    </tr>\n",
       "    <tr>\n",
       "      <th>9997</th>\n",
       "      <td>2.124817</td>\n",
       "      <td>NaN</td>\n",
       "      <td>0.160267</td>\n",
       "      <td>0.185474</td>\n",
       "      <td>0.173175</td>\n",
       "      <td>0.157265</td>\n",
       "      <td>0.142896</td>\n",
       "      <td>0.180922</td>\n",
       "    </tr>\n",
       "    <tr>\n",
       "      <th>9998</th>\n",
       "      <td>2.220960</td>\n",
       "      <td>NaN</td>\n",
       "      <td>0.175721</td>\n",
       "      <td>0.210803</td>\n",
       "      <td>0.157797</td>\n",
       "      <td>0.171414</td>\n",
       "      <td>0.142840</td>\n",
       "      <td>0.141425</td>\n",
       "    </tr>\n",
       "    <tr>\n",
       "      <th>9999</th>\n",
       "      <td>1.848963</td>\n",
       "      <td>NaN</td>\n",
       "      <td>0.200585</td>\n",
       "      <td>0.089627</td>\n",
       "      <td>0.190573</td>\n",
       "      <td>0.146122</td>\n",
       "      <td>0.230067</td>\n",
       "      <td>0.143026</td>\n",
       "    </tr>\n",
       "  </tbody>\n",
       "</table>\n",
       "<p>10000 rows × 8 columns</p>\n",
       "</div>"
      ],
      "text/plain": [
       "      Volatility  Returns  AAPLweight  AMZNweight  AXPweight  GOOGLweight  \\\n",
       "0       1.854475      NaN    0.197958    0.033171   0.143340     0.179862   \n",
       "1       2.727041      NaN    0.072700    0.119593   0.268804     0.513687   \n",
       "2       1.852871      NaN    0.201775    0.130986   0.204547     0.075589   \n",
       "3       2.448674      NaN    0.241953    0.320743   0.039050     0.057916   \n",
       "4       2.230099      NaN    0.107197    0.178551   0.222483     0.210599   \n",
       "...          ...      ...         ...         ...        ...          ...   \n",
       "9995    2.200233      NaN    0.052915    0.206857   0.227575     0.107559   \n",
       "9996    2.350885      NaN    0.341231    0.304866   0.026488     0.042294   \n",
       "9997    2.124817      NaN    0.160267    0.185474   0.173175     0.157265   \n",
       "9998    2.220960      NaN    0.175721    0.210803   0.157797     0.171414   \n",
       "9999    1.848963      NaN    0.200585    0.089627   0.190573     0.146122   \n",
       "\n",
       "      IBMweight  NKEweight  \n",
       "0      0.242585   0.203085  \n",
       "1      0.023417   0.001800  \n",
       "2      0.181301   0.205801  \n",
       "3      0.220341   0.119997  \n",
       "4      0.063189   0.217981  \n",
       "...         ...        ...  \n",
       "9995   0.237305   0.167788  \n",
       "9996   0.211532   0.073589  \n",
       "9997   0.142896   0.180922  \n",
       "9998   0.142840   0.141425  \n",
       "9999   0.230067   0.143026  \n",
       "\n",
       "[10000 rows x 8 columns]"
      ]
     },
     "execution_count": 52,
     "metadata": {},
     "output_type": "execute_result"
    }
   ],
   "source": [
    "portfolios"
   ]
  },
  {
   "cell_type": "code",
   "execution_count": 53,
   "metadata": {
    "collapsed": true,
    "id": "Js6rYg6Mdh0q",
    "jupyter": {
     "outputs_hidden": true,
     "source_hidden": true
    }
   },
   "outputs": [],
   "source": [
    "minimum_volatility=portfolios.iloc[portfolios['Volatility'].idxmin()]"
   ]
  },
  {
   "cell_type": "code",
   "execution_count": 54,
   "metadata": {
    "colab": {
     "base_uri": "https://localhost:8080/"
    },
    "collapsed": true,
    "id": "vJ0zZQNB0v9s",
    "jupyter": {
     "outputs_hidden": true,
     "source_hidden": true
    },
    "outputId": "fd69da5a-f60b-4850-ab9c-e4d3e96df792"
   },
   "outputs": [
    {
     "data": {
      "text/plain": [
       "Volatility     1.423119\n",
       "Returns             NaN\n",
       "AAPLweight     0.417916\n",
       "AMZNweight     0.010160\n",
       "AXPweight      0.408243\n",
       "GOOGLweight    0.025905\n",
       "IBMweight      0.041455\n",
       "NKEweight      0.096321\n",
       "Name: 6924, dtype: float64"
      ]
     },
     "execution_count": 54,
     "metadata": {},
     "output_type": "execute_result"
    }
   ],
   "source": [
    "minimum_volatility"
   ]
  },
  {
   "cell_type": "markdown",
   "metadata": {
    "id": "U9_Y0tCg06R0"
   },
   "source": [
    "This shows us the minimum risk of a portfolio with it's respective returns"
   ]
  },
  {
   "cell_type": "code",
   "execution_count": 55,
   "metadata": {
    "collapsed": true,
    "id": "DjhWalk002Bp",
    "jupyter": {
     "outputs_hidden": true,
     "source_hidden": true
    }
   },
   "outputs": [
    {
     "name": "stderr",
     "output_type": "stream",
     "text": [
      "/var/folders/qs/jlzv7wt507n_s5q9g6056fkr0000gn/T/ipykernel_1358/123537099.py:2: FutureWarning: The behavior of Series.idxmax with all-NA values, or any-NA and skipna=False, is deprecated. In a future version this will raise ValueError\n",
      "  sharpe=portfolios.iloc[((portfolios['Returns']-rf)/portfolios['Volatility']).idxmax()]\n"
     ]
    },
    {
     "ename": "TypeError",
     "evalue": "Cannot index by location index with a non-integer key",
     "output_type": "error",
     "traceback": [
      "\u001b[0;31m---------------------------------------------------------------------------\u001b[0m",
      "\u001b[0;31mTypeError\u001b[0m                                 Traceback (most recent call last)",
      "Cell \u001b[0;32mIn[55], line 2\u001b[0m\n\u001b[1;32m      1\u001b[0m rf\u001b[38;5;241m=\u001b[39m\u001b[38;5;241m0.01\u001b[39m\n\u001b[0;32m----> 2\u001b[0m sharpe\u001b[38;5;241m=\u001b[39mportfolios\u001b[38;5;241m.\u001b[39miloc[((portfolios[\u001b[38;5;124m'\u001b[39m\u001b[38;5;124mReturns\u001b[39m\u001b[38;5;124m'\u001b[39m]\u001b[38;5;241m-\u001b[39mrf)\u001b[38;5;241m/\u001b[39mportfolios[\u001b[38;5;124m'\u001b[39m\u001b[38;5;124mVolatility\u001b[39m\u001b[38;5;124m'\u001b[39m])\u001b[38;5;241m.\u001b[39midxmax()]\n",
      "File \u001b[0;32m~/anaconda3/lib/python3.11/site-packages/pandas/core/indexing.py:1153\u001b[0m, in \u001b[0;36m_LocationIndexer.__getitem__\u001b[0;34m(self, key)\u001b[0m\n\u001b[1;32m   1150\u001b[0m axis \u001b[38;5;241m=\u001b[39m \u001b[38;5;28mself\u001b[39m\u001b[38;5;241m.\u001b[39maxis \u001b[38;5;129;01mor\u001b[39;00m \u001b[38;5;241m0\u001b[39m\n\u001b[1;32m   1152\u001b[0m maybe_callable \u001b[38;5;241m=\u001b[39m com\u001b[38;5;241m.\u001b[39mapply_if_callable(key, \u001b[38;5;28mself\u001b[39m\u001b[38;5;241m.\u001b[39mobj)\n\u001b[0;32m-> 1153\u001b[0m \u001b[38;5;28;01mreturn\u001b[39;00m \u001b[38;5;28mself\u001b[39m\u001b[38;5;241m.\u001b[39m_getitem_axis(maybe_callable, axis\u001b[38;5;241m=\u001b[39maxis)\n",
      "File \u001b[0;32m~/anaconda3/lib/python3.11/site-packages/pandas/core/indexing.py:1711\u001b[0m, in \u001b[0;36m_iLocIndexer._getitem_axis\u001b[0;34m(self, key, axis)\u001b[0m\n\u001b[1;32m   1709\u001b[0m key \u001b[38;5;241m=\u001b[39m item_from_zerodim(key)\n\u001b[1;32m   1710\u001b[0m \u001b[38;5;28;01mif\u001b[39;00m \u001b[38;5;129;01mnot\u001b[39;00m is_integer(key):\n\u001b[0;32m-> 1711\u001b[0m     \u001b[38;5;28;01mraise\u001b[39;00m \u001b[38;5;167;01mTypeError\u001b[39;00m(\u001b[38;5;124m\"\u001b[39m\u001b[38;5;124mCannot index by location index with a non-integer key\u001b[39m\u001b[38;5;124m\"\u001b[39m)\n\u001b[1;32m   1713\u001b[0m \u001b[38;5;66;03m# validate the location\u001b[39;00m\n\u001b[1;32m   1714\u001b[0m \u001b[38;5;28mself\u001b[39m\u001b[38;5;241m.\u001b[39m_validate_integer(key, axis)\n",
      "\u001b[0;31mTypeError\u001b[0m: Cannot index by location index with a non-integer key"
     ]
    }
   ],
   "source": [
    "rf=0.01\n",
    "sharpe=portfolios.iloc[((portfolios['Returns']-rf)/portfolios['Volatility']).idxmax()]"
   ]
  },
  {
   "cell_type": "markdown",
   "metadata": {
    "id": "puIvXwBb1seS"
   },
   "source": [
    "We are finding the sharpe ratio to find the sharpe ratio we would introduce a risk factor which predefined risk factor is the risk exposures which drive the return"
   ]
  },
  {
   "cell_type": "code",
   "execution_count": null,
   "metadata": {
    "colab": {
     "base_uri": "https://localhost:8080/"
    },
    "id": "1aWIYewL2nGH",
    "outputId": "438f81cf-d5cf-4c91-94c6-b30a5528cccf"
   },
   "outputs": [],
   "source": [
    "sharpe\n"
   ]
  },
  {
   "cell_type": "code",
   "execution_count": null,
   "metadata": {
    "id": "5hij_Lqz2oS0"
   },
   "outputs": [],
   "source": []
  }
 ],
 "metadata": {
  "colab": {
   "provenance": []
  },
  "kernelspec": {
   "display_name": "Python 3 (ipykernel)",
   "language": "python",
   "name": "python3"
  },
  "language_info": {
   "codemirror_mode": {
    "name": "ipython",
    "version": 3
   },
   "file_extension": ".py",
   "mimetype": "text/x-python",
   "name": "python",
   "nbconvert_exporter": "python",
   "pygments_lexer": "ipython3",
   "version": "3.11.5"
  }
 },
 "nbformat": 4,
 "nbformat_minor": 4
}
